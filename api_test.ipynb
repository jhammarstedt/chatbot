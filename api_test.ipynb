{
 "cells": [
  {
   "cell_type": "code",
   "execution_count": 19,
   "metadata": {},
   "outputs": [],
   "source": [
    "import tmdbsimple as tm\n",
    "import json\n",
    "with open('tokens.json') as f:\n",
    "    data = json.load(f)\n",
    "    \n",
    "api = data['tokens'][0]['TMDB']    \n",
    "tm.API_KEY = api"
   ]
  },
  {
   "cell_type": "code",
   "execution_count": 69,
   "metadata": {},
   "outputs": [],
   "source": [
    "s = tm.Search()\n",
    "d  = tm.Discover()\n",
    "g = tm.Genres()"
   ]
  },
  {
   "cell_type": "markdown",
   "metadata": {},
   "source": [
    "### Ex dialog 1:\n",
    "- Hi\n",
    "- Hello I'm the Movie bot, what do you want today?\n",
    "- A good (initial request- identify as synonym to popular) movie?\n",
    "- By good, do you mean popular (searchword)?\n",
    "- Yes\n",
    "- Any genre ( searchword) in mind?\n",
    "- Action (keyword)\n",
    "- Anything else?\n",
    "- No\n",
    "- Here are a few examples, you can either select one to hear more, or type 'I like: a,b,c,d' to get similar movies.\n",
    "- Have you seen {title}?\n",
    "- No\n",
    "- Great, it's about {plot} would you like sim\n",
    "\n",
    "if yes,\n",
    "- Did you like it?\n",
    "if yes: Recom simliar\n",
    "if no: Go through the original list\n",
    "\n",
    "\n",
    "(future - availability- check databases)"
   ]
  },
  {
   "cell_type": "markdown",
   "metadata": {},
   "source": [
    "## So first we need popularity"
   ]
  },
  {
   "cell_type": "code",
   "execution_count": 167,
   "metadata": {},
   "outputs": [],
   "source": [
    "#So then we would first get a popular movie\n",
    "def get_popular(pages):\n",
    "    movies= []\n",
    "    a = []\n",
    "    for i in range(1,pages):\n",
    "        movies.append(d.movie(sort_by=['vote_count.desc'],page=i)['results']) #get 3 pages with most vote counts\n",
    "    flatten = [item for sublist in pop for item in sublist]\n",
    "    flatten =sorted(flatten,key = lambda k:k['vote_average'],reverse=True) #sort them by vote_average\n",
    "    return flatten"
   ]
  },
  {
   "cell_type": "code",
   "execution_count": 150,
   "metadata": {
    "jupyter": {
     "source_hidden": true
    }
   },
   "outputs": [],
   "source": [
    "def get_genres():\n",
    "    return {\n",
    "    'Action':28,\n",
    "    'Adventure':12,\n",
    "    'Animation':16,\n",
    "    'Comedy':35,\n",
    "    'Crime': 80,\n",
    "    'Documentary':99,\n",
    "    'Drama':18,\n",
    "    'Family':10751,\n",
    "    'Fantasy':14,\n",
    "    'History':36,\n",
    "    'Horror':27,\n",
    "    'Music':10402,\n",
    "    'Mystery':9648,\n",
    "    'Romance':10749,\n",
    "    'Science Fiction':878,\n",
    "    'TV Movie':10770,\n",
    "    'Thriller':53,\n",
    "    'War':10752,\n",
    "    'Western':37}"
   ]
  },
  {
   "cell_type": "code",
   "execution_count": 168,
   "metadata": {},
   "outputs": [
    {
     "data": {
      "text/plain": [
       "60"
      ]
     },
     "execution_count": 168,
     "metadata": {},
     "output_type": "execute_result"
    }
   ],
   "source": [
    "pop = get_popular(pages=4)\n",
    "len(pop)"
   ]
  },
  {
   "cell_type": "code",
   "execution_count": 94,
   "metadata": {},
   "outputs": [],
   "source": [
    "## Then we need to get the correct genre from these popular"
   ]
  },
  {
   "cell_type": "code",
   "execution_count": 230,
   "metadata": {},
   "outputs": [
    {
     "data": {
      "text/plain": [
       "{'id': 28,\n",
       " 'page': 1,\n",
       " 'results': [{'popularity': 1850.189,\n",
       "   'vote_count': 163,\n",
       "   'video': False,\n",
       "   'poster_path': '/9HT9982bzgN5on1sLRmc1GMn6ZC.jpg',\n",
       "   'id': 671039,\n",
       "   'adult': False,\n",
       "   'backdrop_path': '/gnf4Cb2rms69QbCnGFJyqwBWsxv.jpg',\n",
       "   'original_language': 'fr',\n",
       "   'original_title': 'Bronx',\n",
       "   'genre_ids': [53, 28, 18, 80],\n",
       "   'title': 'Rogue City',\n",
       "   'vote_average': 6.3,\n",
       "   'overview': 'Caught in the crosshairs of police corruption and Marseille’s warring gangs, a loyal cop must protect his squad by taking matters into his own hands.',\n",
       "   'release_date': '2020-10-30'},\n",
       "  {'popularity': 1482.585,\n",
       "   'vote_count': 131,\n",
       "   'video': False,\n",
       "   'poster_path': '/ugZW8ocsrfgI95pnQ7wrmKDxIe.jpg',\n",
       "   'id': 724989,\n",
       "   'adult': False,\n",
       "   'backdrop_path': '/86L8wqGMDbwURPni2t7FQ0nDjsH.jpg',\n",
       "   'original_language': 'en',\n",
       "   'original_title': 'Hard Kill',\n",
       "   'genre_ids': [28, 53],\n",
       "   'title': 'Hard Kill',\n",
       "   'vote_average': 5.1,\n",
       "   'overview': 'The work of billionaire tech CEO Donovan Chalmers is so valuable that he hires mercenaries to protect it, and a terrorist group kidnaps his daughter just to get it.',\n",
       "   'release_date': '2020-10-23'},\n",
       "  {'popularity': 1129.534,\n",
       "   'vote_count': 598,\n",
       "   'video': False,\n",
       "   'poster_path': '/xrI4EnZWftpo1B7tTvlMUXVOikd.jpg',\n",
       "   'id': 340102,\n",
       "   'adult': False,\n",
       "   'backdrop_path': '/eCIvqa3QVCx6H09bdeOS8Al2Sqy.jpg',\n",
       "   'original_language': 'en',\n",
       "   'original_title': 'The New Mutants',\n",
       "   'genre_ids': [28, 878, 27, 12],\n",
       "   'title': 'The New Mutants',\n",
       "   'vote_average': 6.3,\n",
       "   'overview': 'Five young mutants, just discovering their abilities while held in a secret facility against their will, fight to escape their past sins and save themselves.',\n",
       "   'release_date': '2020-08-26'},\n",
       "  {'popularity': 798.962,\n",
       "   'vote_count': 155,\n",
       "   'video': False,\n",
       "   'poster_path': '/elZ6JCzSEvFOq4gNjNeZsnRFsvj.jpg',\n",
       "   'id': 741067,\n",
       "   'adult': False,\n",
       "   'backdrop_path': '/aO5ILS7qnqtFIprbJ40zla0jhpu.jpg',\n",
       "   'original_language': 'en',\n",
       "   'original_title': 'Welcome to Sudden Death',\n",
       "   'genre_ids': [28, 53, 12, 18],\n",
       "   'title': 'Welcome to Sudden Death',\n",
       "   'vote_average': 6.3,\n",
       "   'overview': \"Jesse Freeman is a former special forces officer and explosives expert now working a regular job as a security guard in a state-of-the-art basketball arena. Trouble erupts when a tech-savvy cadre of terrorists kidnap the team's owner and Jesse's daughter during opening night. Facing a ticking clock and impossible odds, it's up to Jesse to not only save them but also a full house of fans in this highly charged action thriller.\",\n",
       "   'release_date': '2020-09-29'},\n",
       "  {'popularity': 693.58,\n",
       "   'vote_count': 9,\n",
       "   'video': False,\n",
       "   'poster_path': '/AnVD7Gn14uOTQhcc5xYZGQ9DRvS.jpg',\n",
       "   'id': 624779,\n",
       "   'adult': False,\n",
       "   'backdrop_path': '/h5sUE9jqoYrjsFjANJXL0gpZGye.jpg',\n",
       "   'original_language': 'en',\n",
       "   'original_title': 'VFW',\n",
       "   'genre_ids': [28, 53, 27],\n",
       "   'title': 'VFW',\n",
       "   'vote_average': 5.6,\n",
       "   'overview': 'A typical night for veterans at a VFW turns into an all-out battle for survival when a desperate teen runs into the bar with a bag of stolen drugs. When a gang of violent punks come looking for her, the vets use every weapon at their disposal to protect the girl and themselves from an unrelenting attack.',\n",
       "   'release_date': '2020-10-14'},\n",
       "  {'popularity': 664.734,\n",
       "   'id': 635302,\n",
       "   'video': False,\n",
       "   'vote_count': 67,\n",
       "   'vote_average': 6.2,\n",
       "   'title': 'Demon Slayer: Kimetsu no Yaiba - The Movie: Mugen Train',\n",
       "   'release_date': '2020-10-16',\n",
       "   'original_language': 'ja',\n",
       "   'original_title': '劇場版「鬼滅の刃」無限列車編',\n",
       "   'genre_ids': [16, 28, 36, 12, 14, 18],\n",
       "   'backdrop_path': '/xoqr4dMbRJnzuhsWDF3XNHQwJ9x.jpg',\n",
       "   'adult': False,\n",
       "   'overview': \"Tanjirō Kamado, joined with Inosuke Hashibira, a boy raised by boars who wears a boar's head, and Zenitsu Agatsuma, a scared boy who reveals his true power when he sleeps, boards the Infinity Train on a new mission with the Fire Hashira, Kyōjurō Rengoku, to defeat a demon who has been tormenting the people and killing the demon slayers who oppose it!\",\n",
       "   'poster_path': '/h8Rb9gBr48ODIwYUttZNYeMWeUU.jpg'},\n",
       "  {'popularity': 648.668,\n",
       "   'vote_count': 2857,\n",
       "   'video': False,\n",
       "   'poster_path': '/aKx1ARwG55zZ0GpRvU2WrGrCG9o.jpg',\n",
       "   'id': 337401,\n",
       "   'adult': False,\n",
       "   'backdrop_path': '/zzWGRw277MNoCs3zhyG3YmYQsXv.jpg',\n",
       "   'original_language': 'en',\n",
       "   'original_title': 'Mulan',\n",
       "   'genre_ids': [28, 12, 18, 14],\n",
       "   'title': 'Mulan',\n",
       "   'vote_average': 7.2,\n",
       "   'overview': 'When the Emperor of China issues a decree that one man per family must serve in the Imperial Chinese Army to defend the country from Huns, Hua Mulan, the eldest daughter of an honored warrior, steps in to take the place of her ailing father. She is spirited, determined and quick on her feet. Disguised as a man by the name of Hua Jun, she is tested every step of the way and must harness her innermost strength and embrace her true potential.',\n",
       "   'release_date': '2020-09-04'},\n",
       "  {'popularity': 613.736,\n",
       "   'vote_count': 48,\n",
       "   'video': False,\n",
       "   'poster_path': '/k8Q9ulyRE8fkvZMkAM9LPYMKctb.jpg',\n",
       "   'id': 618353,\n",
       "   'adult': False,\n",
       "   'backdrop_path': '/kU7ZiyeUwcpTkYj3UcxSqGdZmxY.jpg',\n",
       "   'original_language': 'en',\n",
       "   'original_title': 'Batman: Death in the Family',\n",
       "   'genre_ids': [28, 16],\n",
       "   'title': 'Batman: Death in the Family',\n",
       "   'vote_average': 8,\n",
       "   'overview': \"Tragedy strikes the Batman's life again when Robin Jason Todd tracks down his birth mother only to run afoul of the Joker. An adaptation of the 1988 comic book storyline of the same name.\",\n",
       "   'release_date': '2020-10-13'},\n",
       "  {'popularity': 606.652,\n",
       "   'vote_count': 755,\n",
       "   'video': False,\n",
       "   'poster_path': '/sy6DvAu72kjoseZEjocnm2ZZ09i.jpg',\n",
       "   'id': 581392,\n",
       "   'adult': False,\n",
       "   'backdrop_path': '/gEjNlhZhyHeto6Fy5wWy5Uk3A9D.jpg',\n",
       "   'original_language': 'ko',\n",
       "   'original_title': '반도',\n",
       "   'genre_ids': [28, 27, 53],\n",
       "   'title': 'Peninsula',\n",
       "   'vote_average': 7,\n",
       "   'overview': 'A soldier and his team battle hordes of post-apocalyptic zombies in the wastelands of the Korean Peninsula.',\n",
       "   'release_date': '2020-07-15'},\n",
       "  {'popularity': 562.831,\n",
       "   'vote_count': 181,\n",
       "   'video': False,\n",
       "   'poster_path': '/6CoRTJTmijhBLJTUNoVSUNxZMEI.jpg',\n",
       "   'id': 694919,\n",
       "   'adult': False,\n",
       "   'backdrop_path': '/pq0JSpwyT2URytdFG0euztQPAyR.jpg',\n",
       "   'original_language': 'en',\n",
       "   'original_title': 'Money Plane',\n",
       "   'genre_ids': [28],\n",
       "   'title': 'Money Plane',\n",
       "   'vote_average': 6,\n",
       "   'overview': \"A professional thief with $40 million in debt and his family's life on the line must commit one final heist - rob a futuristic airborne casino filled with the world's most dangerous criminals.\",\n",
       "   'release_date': '2020-09-29'},\n",
       "  {'popularity': 532.355,\n",
       "   'vote_count': 608,\n",
       "   'video': False,\n",
       "   'poster_path': '/qzA87Wf4jo1h8JMk9GilyIYvwsA.jpg',\n",
       "   'id': 539885,\n",
       "   'adult': False,\n",
       "   'backdrop_path': '/54yOImQgj8i85u9hxxnaIQBRUuo.jpg',\n",
       "   'original_language': 'en',\n",
       "   'original_title': 'Ava',\n",
       "   'genre_ids': [28, 80, 18, 53],\n",
       "   'title': 'Ava',\n",
       "   'vote_average': 5.7,\n",
       "   'overview': 'A black ops assassin is forced to fight for her own survival after a job goes dangerously wrong.',\n",
       "   'release_date': '2020-07-02'},\n",
       "  {'popularity': 474.664,\n",
       "   'vote_count': 102,\n",
       "   'video': False,\n",
       "   'poster_path': '/xqbQtMffXwa3oprse4jiHBMBvdW.jpg',\n",
       "   'id': 601844,\n",
       "   'adult': False,\n",
       "   'backdrop_path': '/qTrpw2ZUvN7ywUu1kieEsvNDrgQ.jpg',\n",
       "   'original_language': 'en',\n",
       "   'original_title': 'Becky',\n",
       "   'genre_ids': [53, 28, 27],\n",
       "   'title': 'Becky',\n",
       "   'vote_average': 6.3,\n",
       "   'overview': \"A teenager's weekend at a lake house with her father takes a turn for the worse when a group of convicts wreaks havoc on their lives.\",\n",
       "   'release_date': '2020-07-23'},\n",
       "  {'popularity': 452.377,\n",
       "   'vote_count': 154,\n",
       "   'video': False,\n",
       "   'poster_path': '/9Rj8l6gElLpRL7Kj17iZhrT5Zuw.jpg',\n",
       "   'id': 734309,\n",
       "   'adult': False,\n",
       "   'backdrop_path': '/7fvdg211A2L0mHddvzyArRuRalp.jpg',\n",
       "   'original_language': 'en',\n",
       "   'original_title': 'Santana',\n",
       "   'genre_ids': [28],\n",
       "   'title': 'Santana',\n",
       "   'vote_average': 5.5,\n",
       "   'overview': 'Two brothers — one a narcotics agent and the other a general — finally discover the identity of the drug lord who murdered their parents decades ago. They may kill each other before capturing the bad guys.',\n",
       "   'release_date': '2020-08-28'},\n",
       "  {'popularity': 426.294,\n",
       "   'vote_count': 24,\n",
       "   'video': False,\n",
       "   'poster_path': '/z0r3YjyJSLqf6Hz0rbBAnEhNXQ7.jpg',\n",
       "   'id': 697064,\n",
       "   'adult': False,\n",
       "   'backdrop_path': '/7WKIOXJa2JjHygE8Yta3uaCv6GC.jpg',\n",
       "   'original_language': 'en',\n",
       "   'original_title': 'Beckman',\n",
       "   'genre_ids': [28],\n",
       "   'title': 'Beckman',\n",
       "   'vote_average': 5.7,\n",
       "   'overview': 'A contract killer, becomes the reverend of a LA church, until a cult leader and his minions kidnap his daughter. Blinded by vengeance, he cuts a bloody path across the city. The only thing that can stop him is his newfound faith.',\n",
       "   'release_date': '2020-09-10'},\n",
       "  {'popularity': 413.599,\n",
       "   'vote_count': 347,\n",
       "   'video': False,\n",
       "   'poster_path': '/uOw5JD8IlD546feZ6oxbIjvN66P.jpg',\n",
       "   'id': 718444,\n",
       "   'adult': False,\n",
       "   'backdrop_path': '/x4UkhIQuHIJyeeOTdcbZ3t3gBSa.jpg',\n",
       "   'original_language': 'en',\n",
       "   'original_title': 'Rogue',\n",
       "   'genre_ids': [28, 12, 18, 53],\n",
       "   'title': 'Rogue',\n",
       "   'vote_average': 5.8,\n",
       "   'overview': 'Battle-hardened O’Hara leads a lively mercenary team of soldiers on a daring mission: rescue hostages from their captors in remote Africa. But as the mission goes awry and the team is stranded, O’Hara’s squad must face a bloody, brutal encounter with a gang of rebels.',\n",
       "   'release_date': '2020-08-20'},\n",
       "  {'popularity': 402.653,\n",
       "   'vote_count': 929,\n",
       "   'video': False,\n",
       "   'poster_path': '/tI8ocADh22GtQFV28vGHaBZVb0U.jpg',\n",
       "   'id': 475430,\n",
       "   'adult': False,\n",
       "   'backdrop_path': '/o0F8xAt8YuEm5mEZviX5pEFC12y.jpg',\n",
       "   'original_language': 'en',\n",
       "   'original_title': 'Artemis Fowl',\n",
       "   'genre_ids': [12, 14, 878, 10751, 28],\n",
       "   'title': 'Artemis Fowl',\n",
       "   'vote_average': 5.8,\n",
       "   'overview': \"Artemis Fowl is a 12-year-old genius and descendant of a long line of criminal masterminds. He soon finds himself in an epic battle against a race of powerful underground fairies who may be behind his father's disappearance.\",\n",
       "   'release_date': '2020-06-12'},\n",
       "  {'popularity': 377.855,\n",
       "   'vote_count': 1566,\n",
       "   'video': False,\n",
       "   'poster_path': '/TnOeov4w0sTtV2gqICqIxVi74V.jpg',\n",
       "   'id': 605116,\n",
       "   'adult': False,\n",
       "   'backdrop_path': '/qVygtf2vU15L2yKS4Ke44U4oMdD.jpg',\n",
       "   'original_language': 'en',\n",
       "   'original_title': 'Project Power',\n",
       "   'genre_ids': [28, 80, 878],\n",
       "   'title': 'Project Power',\n",
       "   'vote_average': 6.6,\n",
       "   'overview': 'An ex-soldier, a teen and a cop collide in New Orleans as they hunt for the source behind a dangerous new pill that grants users temporary superpowers.',\n",
       "   'release_date': '2020-08-14'},\n",
       "  {'popularity': 375.621,\n",
       "   'vote_count': 23,\n",
       "   'video': False,\n",
       "   'poster_path': '/cLDPLia17AwMqSaRHccyAlInkch.jpg',\n",
       "   'id': 634244,\n",
       "   'adult': False,\n",
       "   'backdrop_path': '/cw8A0SprTxr7uSfcH7lwSRRhezJ.jpg',\n",
       "   'original_language': 'en',\n",
       "   'original_title': \"Heavenquest: A Pilgrim's Progress\",\n",
       "   'genre_ids': [12, 14, 28],\n",
       "   'title': \"Heavenquest: A Pilgrim's Progress\",\n",
       "   'vote_average': 6.6,\n",
       "   'overview': \"Inspired by the 1678 novel The Pilgrim's Progress and an imagined prequel to Bunyan's original writings.  A regal man named Vangel is thrust on a journey against his will when he is suddenly and mysteriously arrested.  Injured and lost after escaping the dark king’s men, Vangel begins to have strange dreams and visions of a mysterious woman in white calling him from the unknown territory of the North.  Armed with a book called “The Record of the Ancients” that he receives from a wise sage named Elder, Vangel embarks on an adventure that takes him through treacherous mountain range, unending deserts, the Lake of Doubts, and the Forest of No Return.  Along the way, travel companions share about a fabled good king and his son in the North if he can make it there alive.\",\n",
       "   'release_date': '2020-07-13'},\n",
       "  {'popularity': 338.197,\n",
       "   'vote_count': 176,\n",
       "   'video': False,\n",
       "   'poster_path': '/3eg0kGC2Xh0vhydJHO37Sp4cmMt.jpg',\n",
       "   'id': 531499,\n",
       "   'adult': False,\n",
       "   'backdrop_path': '/zogWnCSztU8xvabaepQnAwsOtOt.jpg',\n",
       "   'original_language': 'en',\n",
       "   'original_title': 'The Tax Collector',\n",
       "   'genre_ids': [28, 80, 18],\n",
       "   'title': 'The Tax Collector',\n",
       "   'vote_average': 6,\n",
       "   'overview': 'David Cuevas is a family man who works as a gangland tax collector for high ranking Los Angeles gang members. He makes collections across the city with his partner Creeper making sure people pay up or will see retaliation. An old threat returns to Los Angeles that puts everything David loves in harm’s way.',\n",
       "   'release_date': '2020-08-07'},\n",
       "  {'popularity': 335.1,\n",
       "   'vote_count': 118,\n",
       "   'video': False,\n",
       "   'poster_path': '/i4kPwXPlM1iy8Jf3S1uuLuwqQAV.jpg',\n",
       "   'id': 721452,\n",
       "   'adult': False,\n",
       "   'backdrop_path': '/riDrpqQtZpXGeiJdlmfcwwPH7nN.jpg',\n",
       "   'original_language': 'en',\n",
       "   'original_title': 'One Night in Bangkok',\n",
       "   'genre_ids': [28, 53],\n",
       "   'title': 'One Night in Bangkok',\n",
       "   'vote_average': 7.1,\n",
       "   'overview': \"A hit man named Kai flies into Bangkok, gets a gun, and orders a cab. He offers a professional female driver big money to be his all-night driver. But when she realizes Kai is committing brutal murders at each stop, it's too late to walk away. Meanwhile, an offbeat police detective races to decode the string of slayings before more blood is spilled.\",\n",
       "   'release_date': '2020-08-25'}],\n",
       " 'total_pages': 500,\n",
       " 'total_results': 10000}"
      ]
     },
     "execution_count": 230,
     "metadata": {},
     "output_type": "execute_result"
    }
   ],
   "source": [
    "tm.Genres(28).movies()"
   ]
  },
  {
   "cell_type": "code",
   "execution_count": 117,
   "metadata": {},
   "outputs": [],
   "source": [
    "gg = g.movie_list()['genres']\n",
    "genres = get_genres()"
   ]
  },
  {
   "cell_type": "code",
   "execution_count": null,
   "metadata": {},
   "outputs": [],
   "source": []
  },
  {
   "cell_type": "code",
   "execution_count": 172,
   "metadata": {},
   "outputs": [],
   "source": [
    "def filter_by_genre(current_list,specified_genre):\n",
    "    #filter out by genre and update our selection, will probably be generalized later\n",
    "    selection =[]\n",
    "    for movie in current_list:\n",
    "        if genres[specified_genre] in movie['genre_ids']:\n",
    "            selection.append(movie)\n",
    "    return selection\n",
    "\n",
    "choice= 'Adventure' #this will be input later\n",
    "post_gen = filter_by_genre(current_list= pop,specified_genre=choice)"
   ]
  },
  {
   "cell_type": "code",
   "execution_count": 178,
   "metadata": {},
   "outputs": [
    {
     "name": "stdout",
     "output_type": "stream",
     "text": [
      "ID: 122, The Lord of the Rings: The Return of the King\n",
      "ID: 27205, Inception\n",
      "ID: 157336, Interstellar\n",
      "ID: 299536, Avengers: Infinity War\n",
      "ID: 120, The Lord of the Rings: The Fellowship of the Ring\n"
     ]
    }
   ],
   "source": [
    "for i in range(5):\n",
    "    print(f\"ID: {post_gen[i]['id']}, {post_gen[i]['original_title']}\")"
   ]
  },
  {
   "cell_type": "code",
   "execution_count": 200,
   "metadata": {},
   "outputs": [],
   "source": [
    "similar = 122\n",
    "sim = sorted(tm.Movies(122).recommendations()['results'],key = lambda k:k['vote_average'],reverse=True)"
   ]
  },
  {
   "cell_type": "code",
   "execution_count": 202,
   "metadata": {},
   "outputs": [
    {
     "data": {
      "text/plain": [
       "'The epic saga continues as Luke Skywalker, in hopes of defeating the evil Galactic Empire, learns the ways of the Jedi from aging master Yoda. But Darth Vader is more determined than ever to capture Luke. Meanwhile, rebel leader Princess Leia, cocky Han Solo, Chewbacca, and droids C-3PO and R2-D2 are thrown into various stages of capture, betrayal and despair.'"
      ]
     },
     "execution_count": 202,
     "metadata": {},
     "output_type": "execute_result"
    }
   ],
   "source": [
    "picked= 0\n",
    "sim[0]['overview']"
   ]
  },
  {
   "cell_type": "markdown",
   "metadata": {},
   "source": [
    "### Ex dialog 2\n",
    "- Hello\n",
    "- Hi I'm movie bot, what are you interested in today?\n",
    "- An Action (identify this as a genre) movie please!\n",
    "- Ok, does popularity (if filter) matter?\n",
    "- No (no popularity filer added)\n",
    "- Any particular actor (searchterm)?\n",
    "- Brad Pitt (keyword)\n",
    "- ok have you seen {title}?\n",
    "- Yes\n",
    "- Ok have you seen {title2}?\n",
    "- No\n",
    "- Its about {plot}"
   ]
  },
  {
   "cell_type": "code",
   "execution_count": 211,
   "metadata": {},
   "outputs": [],
   "source": [
    "s = 'cool action movie'\n",
    "b = ['a','b','c','cool']"
   ]
  },
  {
   "cell_type": "code",
   "execution_count": 212,
   "metadata": {},
   "outputs": [],
   "source": [
    "a = s.split(' ')"
   ]
  },
  {
   "cell_type": "code",
   "execution_count": 220,
   "metadata": {},
   "outputs": [
    {
     "data": {
      "text/plain": [
       "[1, 2]"
      ]
     },
     "execution_count": 220,
     "metadata": {},
     "output_type": "execute_result"
    }
   ],
   "source": [
    "def test() -> [int,int]:\n",
    "    return [1,2]\n",
    "test()"
   ]
  },
  {
   "cell_type": "code",
   "execution_count": null,
   "metadata": {},
   "outputs": [],
   "source": []
  }
 ],
 "metadata": {
  "kernelspec": {
   "display_name": "Python 3",
   "language": "python",
   "name": "python3"
  },
  "language_info": {
   "codemirror_mode": {
    "name": "ipython",
    "version": 3
   },
   "file_extension": ".py",
   "mimetype": "text/x-python",
   "name": "python",
   "nbconvert_exporter": "python",
   "pygments_lexer": "ipython3",
   "version": "3.8.6"
  }
 },
 "nbformat": 4,
 "nbformat_minor": 4
}
